{
 "cells": [
  {
   "cell_type": "code",
   "execution_count": 51,
   "metadata": {
    "collapsed": true
   },
   "outputs": [],
   "source": [
    "import os\n",
    "import numpy as np\n",
    "import pandas as pd\n",
    "import matplotlib.pyplot as plt\n",
    "%matplotlib inline\n",
    "from string import punctuation\n"
   ]
  },
  {
   "cell_type": "code",
   "execution_count": 18,
   "metadata": {
    "collapsed": false
   },
   "outputs": [],
   "source": [
    "gatsby = open('gatsby.txt', 'r')\n",
    "book_only = gatsby.read().splitlines()[50:]\n",
    "\n",
    "# remove empty lines and chapter headings\n",
    "book_only = list(filter(None, book_only))\n",
    "book_only = [s for s in book_only if 'Chapter' not in s]"
   ]
  },
  {
   "cell_type": "code",
   "execution_count": 59,
   "metadata": {
    "collapsed": false
   },
   "outputs": [],
   "source": [
    "def strip_punctuation(s):\n",
    "    return ''.join(c for c in s if c not in punctuation)\n",
    "\n",
    "# remove punctuation and make everything lowercase\n",
    "process1 = []\n",
    "for s in book_only:\n",
    "    process1.append(strip_punctuation(s.lower()))"
   ]
  },
  {
   "cell_type": "code",
   "execution_count": 78,
   "metadata": {
    "collapsed": false
   },
   "outputs": [],
   "source": [
    "# finally, split the book into words\n",
    "gatsby_processed = []\n",
    "\n",
    "for line in process1:\n",
    "    gatsby_processed.append(line.split(' '))\n",
    "\n",
    "# flatten the list of lists of words\n",
    "flat_gatsby = []\n",
    "for sublist in gatsby_processed:\n",
    "    for item in sublist:\n",
    "        flat_gatsby.append(item)\n",
    "        \n",
    "flat_gatsby = list(filter(None, flat_gatsby))"
   ]
  },
  {
   "cell_type": "code",
   "execution_count": 79,
   "metadata": {
    "collapsed": false
   },
   "outputs": [
    {
     "name": "stdout",
     "output_type": "stream",
     "text": [
      "Total words: 49203. Total Unique words: 6436\n"
     ]
    }
   ],
   "source": [
    "print(\"Total words: {}. Total Unique words: {}\".format(len(flat_gatsby), len(set(flat_gatsby))))"
   ]
  },
  {
   "cell_type": "code",
   "execution_count": 80,
   "metadata": {
    "collapsed": false
   },
   "outputs": [],
   "source": [
    "# on average we see that words appear about 8-9 times. \n",
    "dict_gatsby = {}\n",
    "for word in flat_gatsby:\n",
    "    if word in dict_gatsby.keys():\n",
    "        dict_gatsby[word] += 1\n",
    "    else:\n",
    "        dict_gatsby[word] = 1"
   ]
  },
  {
   "cell_type": "code",
   "execution_count": 118,
   "metadata": {
    "collapsed": false
   },
   "outputs": [
    {
     "data": {
      "text/plain": [
       "['the', 'and', 'a', 'i', 'to', 'of', 'in', 'he', 'was', 'that']"
      ]
     },
     "execution_count": 118,
     "metadata": {},
     "output_type": "execute_result"
    }
   ],
   "source": [
    "sorted(dict_gatsby, key=dict_gatsby.get, reverse=True)[0:10] # 10 most frequent words"
   ]
  },
  {
   "cell_type": "code",
   "execution_count": 86,
   "metadata": {
    "collapsed": true
   },
   "outputs": [],
   "source": [
    "# Simple maximum likelihood estimates using bigrams and the text of the great gatsby\n",
    "def bigram_predict(prev_word):\n",
    "    # number of occurrences\n",
    "    count = 0\n",
    "    next_dict = {}\n",
    "    for i, word in enumerate(flat_gatsby):\n",
    "        if word == prev_word:\n",
    "            count += 1\n",
    "            n = flat_gatsby[i+1]\n",
    "            if n in next_dict:\n",
    "                next_dict[n] += 1\n",
    "            else:\n",
    "                next_dict[n] = 1\n",
    "    for key in next_dict.keys():\n",
    "        next_dict[key] /= count # normalize to get a count\n",
    "    return next_dict              "
   ]
  },
  {
   "cell_type": "code",
   "execution_count": 93,
   "metadata": {
    "collapsed": false
   },
   "outputs": [
    {
     "data": {
      "text/plain": [
       "{'be': 0.14285714285714285,\n",
       " 'catch': 0.03571428571428571,\n",
       " 'fool': 0.03571428571428571,\n",
       " 'have': 0.42857142857142855,\n",
       " 'once': 0.03571428571428571,\n",
       " 'pick': 0.03571428571428571,\n",
       " 'remain': 0.03571428571428571,\n",
       " 'slip': 0.03571428571428571,\n",
       " 'sober': 0.03571428571428571,\n",
       " 'soon': 0.03571428571428571,\n",
       " 'sue': 0.03571428571428571,\n",
       " 'think': 0.07142857142857142,\n",
       " 'want': 0.03571428571428571}"
      ]
     },
     "execution_count": 93,
     "metadata": {},
     "output_type": "execute_result"
    }
   ],
   "source": [
    "bigram_predict('might')"
   ]
  },
  {
   "cell_type": "code",
   "execution_count": 100,
   "metadata": {
    "collapsed": false
   },
   "outputs": [
    {
     "data": {
      "text/plain": [
       "{'in': 1.0}"
      ]
     },
     "execution_count": 100,
     "metadata": {},
     "output_type": "execute_result"
    }
   ],
   "source": [
    "bigram_predict('remain') # hmmmmmm"
   ]
  },
  {
   "cell_type": "code",
   "execution_count": 103,
   "metadata": {
    "collapsed": true
   },
   "outputs": [],
   "source": [
    "def trigram_predict(word1, word2):\n",
    "    # number of occurrences\n",
    "    count = 0\n",
    "    next_dict = {}\n",
    "    for i, word in enumerate(flat_gatsby):\n",
    "        if word == word1:\n",
    "            if flat_gatsby[i+1] == word2:\n",
    "                count += 1\n",
    "                n = flat_gatsby[i+2]\n",
    "                if n in next_dict:\n",
    "                    next_dict[n] += 1\n",
    "                else:\n",
    "                    next_dict[n] = 1\n",
    "    for key in next_dict.keys():\n",
    "        next_dict[key] /= count # normalize to get a count\n",
    "    return next_dict    "
   ]
  },
  {
   "cell_type": "code",
   "execution_count": 116,
   "metadata": {
    "collapsed": false
   },
   "outputs": [
    {
     "data": {
      "text/plain": [
       "{'bedroom': 0.05,\n",
       " 'block': 0.05,\n",
       " 'bow': 0.05,\n",
       " 'circle': 0.05,\n",
       " 'diningroom': 0.05,\n",
       " 'expensive': 0.05,\n",
       " 'eyesore': 0.05,\n",
       " 'flask': 0.05,\n",
       " 'flatnosed': 0.05,\n",
       " 'foul': 0.05,\n",
       " 'gust': 0.05,\n",
       " 'hotel': 0.05,\n",
       " 'investigation': 0.1,\n",
       " 'picture': 0.05,\n",
       " 'producer': 0.05,\n",
       " 'rectangle': 0.05,\n",
       " 'town': 0.15}"
      ]
     },
     "execution_count": 116,
     "metadata": {},
     "output_type": "execute_result"
    }
   ],
   "source": [
    "trigram_predict('a', 'small')"
   ]
  },
  {
   "cell_type": "code",
   "execution_count": 120,
   "metadata": {
    "collapsed": false
   },
   "outputs": [
    {
     "data": {
      "text/plain": [
       "0.0935"
      ]
     },
     "execution_count": 120,
     "metadata": {},
     "output_type": "execute_result"
    }
   ],
   "source": [
    "(0.5 * 0.5 * 0.1 * 0.2) + (0.5 * 0.5 * 0.1 * 0.3) + (0.5 * 0.3 * 0.6 * 0.2 ) + (0.5 * 0.7 * 0.6 * 0.3)"
   ]
  },
  {
   "cell_type": "code",
   "execution_count": null,
   "metadata": {
    "collapsed": true
   },
   "outputs": [],
   "source": []
  }
 ],
 "metadata": {
  "kernelspec": {
   "display_name": "Python 3",
   "language": "python",
   "name": "python3"
  },
  "language_info": {
   "codemirror_mode": {
    "name": "ipython",
    "version": 3
   },
   "file_extension": ".py",
   "mimetype": "text/x-python",
   "name": "python",
   "nbconvert_exporter": "python",
   "pygments_lexer": "ipython3",
   "version": "3.6.0"
  }
 },
 "nbformat": 4,
 "nbformat_minor": 2
}
